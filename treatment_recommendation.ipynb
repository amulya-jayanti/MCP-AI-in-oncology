{
 "cells": [
  {
   "cell_type": "markdown",
   "metadata": {},
   "source": [
    "# Treatment Recommendation Model\n",
    "This notebook performs feature extraction, model training, evaluation, and saving for use in the CrewAI pipeline."
   ]
  },
  {
   "cell_type": "code",
   "execution_count": 3,
   "metadata": {},
   "outputs": [],
   "source": [
    "# Imports\n",
    "import pandas as pd\n",
    "import numpy as np\n",
    "import re\n",
    "from sklearn.ensemble import RandomForestClassifier\n",
    "from sklearn.model_selection import train_test_split\n",
    "from sklearn.metrics import classification_report, accuracy_score\n",
    "import joblib\n",
    "import os\n",
    "from crewai import Agent, Task, Crew\n",
    "import sys\n",
    "from datetime import datetime\n",
    "import json\n",
    "from langchain.chat_models import ChatOpenAI"
   ]
  },
  {
   "cell_type": "markdown",
   "metadata": {},
   "source": [
    "## Data Preprocessing"
   ]
  },
  {
   "cell_type": "code",
   "execution_count": 4,
   "metadata": {},
   "outputs": [
    {
     "data": {
      "text/html": [
       "<div>\n",
       "<style scoped>\n",
       "    .dataframe tbody tr th:only-of-type {\n",
       "        vertical-align: middle;\n",
       "    }\n",
       "\n",
       "    .dataframe tbody tr th {\n",
       "        vertical-align: top;\n",
       "    }\n",
       "\n",
       "    .dataframe thead th {\n",
       "        text-align: right;\n",
       "    }\n",
       "</style>\n",
       "<table border=\"1\" class=\"dataframe\">\n",
       "  <thead>\n",
       "    <tr style=\"text-align: right;\">\n",
       "      <th></th>\n",
       "      <th>PatientID</th>\n",
       "      <th>Clinical Notes</th>\n",
       "    </tr>\n",
       "  </thead>\n",
       "  <tbody>\n",
       "    <tr>\n",
       "      <th>0</th>\n",
       "      <td>1</td>\n",
       "      <td>2020-03-13: DIAGNOSIS - Initial PSA=14.7 ng/mL...</td>\n",
       "    </tr>\n",
       "    <tr>\n",
       "      <th>1</th>\n",
       "      <td>2</td>\n",
       "      <td>2022-04-11: DIAGNOSIS - Initial PSA=15.4 ng/mL...</td>\n",
       "    </tr>\n",
       "    <tr>\n",
       "      <th>2</th>\n",
       "      <td>3</td>\n",
       "      <td>2021-09-14: DIAGNOSIS - Initial PSA=20.0 ng/mL...</td>\n",
       "    </tr>\n",
       "    <tr>\n",
       "      <th>3</th>\n",
       "      <td>4</td>\n",
       "      <td>2020-10-14: DIAGNOSIS - Initial PSA=4.0 ng/mL,...</td>\n",
       "    </tr>\n",
       "    <tr>\n",
       "      <th>4</th>\n",
       "      <td>5</td>\n",
       "      <td>2022-12-07: DIAGNOSIS - Initial PSA=20.0 ng/mL...</td>\n",
       "    </tr>\n",
       "  </tbody>\n",
       "</table>\n",
       "</div>"
      ],
      "text/plain": [
       "   PatientID                                     Clinical Notes\n",
       "0          1  2020-03-13: DIAGNOSIS - Initial PSA=14.7 ng/mL...\n",
       "1          2  2022-04-11: DIAGNOSIS - Initial PSA=15.4 ng/mL...\n",
       "2          3  2021-09-14: DIAGNOSIS - Initial PSA=20.0 ng/mL...\n",
       "3          4  2020-10-14: DIAGNOSIS - Initial PSA=4.0 ng/mL,...\n",
       "4          5  2022-12-07: DIAGNOSIS - Initial PSA=20.0 ng/mL..."
      ]
     },
     "execution_count": 4,
     "metadata": {},
     "output_type": "execute_result"
    }
   ],
   "source": [
    "# Load the raw data\n",
    "df_raw = pd.read_csv(\"data/prostate_patient_data.csv\")\n",
    "df_raw.head()"
   ]
  },
  {
   "cell_type": "code",
   "execution_count": 5,
   "metadata": {},
   "outputs": [],
   "source": [
    "# Data parsing\n",
    "def parse_clinical_notes(patient_id, notes_string):\n",
    "    entries = notes_string.split('|')\n",
    "    records = []\n",
    "\n",
    "    for entry in entries:\n",
    "        match = re.match(r\"\\s*(\\d{4}-\\d{2}-\\d{2}):\\s*(.*)\", entry.strip())\n",
    "        if not match:\n",
    "            continue\n",
    "        date_str, content = match.groups()\n",
    "        date = datetime.strptime(date_str, \"%Y-%m-%d\").date()\n",
    "\n",
    "        # Extract relevant fields\n",
    "        psa_match = re.search(r\"PSA=([\\d.]+)\", content)\n",
    "        psa = float(psa_match.group(1)) if psa_match else None\n",
    "\n",
    "        pirads_match = re.search(r\"PI-RADS=(\\d+)\", content)\n",
    "        pirads = int(pirads_match.group(1)) if pirads_match else None\n",
    "\n",
    "        weight_match = re.search(r\"Weight=([\\d.]+)\", content)\n",
    "        weight = float(weight_match.group(1)) if weight_match else None\n",
    "\n",
    "        bone_pain_match = re.search(r\"Bone Pain=([a-zA-Z]+)\", content)\n",
    "        bone_pain = bone_pain_match.group(1) if bone_pain_match else None\n",
    "\n",
    "        treatment_match = re.search(r\"Treatment=([^,|]+)\", content)\n",
    "        treatment = treatment_match.group(1).strip() if treatment_match else None\n",
    "\n",
    "        records.append({\n",
    "            \"PatientID\": patient_id,\n",
    "            \"Date\": date,\n",
    "            \"PSA\": psa,\n",
    "            \"PIRADS\": pirads,\n",
    "            \"Weight\": weight,\n",
    "            \"BonePain\": bone_pain,\n",
    "            \"Treatment\": treatment\n",
    "        })\n",
    "\n",
    "    return records"
   ]
  },
  {
   "cell_type": "code",
   "execution_count": 6,
   "metadata": {},
   "outputs": [],
   "source": [
    "# Parse all patients into structured rows\n",
    "all_records = []\n",
    "\n",
    "for _, row in df_raw.iterrows():\n",
    "    patient_id = row[\"PatientID\"]\n",
    "    notes = row[\"Clinical Notes\"]\n",
    "    records = parse_clinical_notes(patient_id, notes)\n",
    "    all_records.extend(records)\n",
    "\n",
    "# Create structured DataFrame\n",
    "df = pd.DataFrame(all_records)"
   ]
  },
  {
   "cell_type": "code",
   "execution_count": 7,
   "metadata": {},
   "outputs": [
    {
     "data": {
      "text/html": [
       "<div>\n",
       "<style scoped>\n",
       "    .dataframe tbody tr th:only-of-type {\n",
       "        vertical-align: middle;\n",
       "    }\n",
       "\n",
       "    .dataframe tbody tr th {\n",
       "        vertical-align: top;\n",
       "    }\n",
       "\n",
       "    .dataframe thead th {\n",
       "        text-align: right;\n",
       "    }\n",
       "</style>\n",
       "<table border=\"1\" class=\"dataframe\">\n",
       "  <thead>\n",
       "    <tr style=\"text-align: right;\">\n",
       "      <th></th>\n",
       "      <th>PatientID</th>\n",
       "      <th>Date</th>\n",
       "      <th>PSA</th>\n",
       "      <th>PIRADS</th>\n",
       "      <th>Weight</th>\n",
       "      <th>BonePain</th>\n",
       "      <th>Treatment</th>\n",
       "    </tr>\n",
       "  </thead>\n",
       "  <tbody>\n",
       "    <tr>\n",
       "      <th>0</th>\n",
       "      <td>1</td>\n",
       "      <td>2020-03-13</td>\n",
       "      <td>14.7</td>\n",
       "      <td>5</td>\n",
       "      <td>73.7</td>\n",
       "      <td>None</td>\n",
       "      <td>None</td>\n",
       "    </tr>\n",
       "    <tr>\n",
       "      <th>1</th>\n",
       "      <td>1</td>\n",
       "      <td>2020-03-13</td>\n",
       "      <td>14.7</td>\n",
       "      <td>5</td>\n",
       "      <td>73.7</td>\n",
       "      <td>Mild</td>\n",
       "      <td>ADT</td>\n",
       "    </tr>\n",
       "    <tr>\n",
       "      <th>2</th>\n",
       "      <td>1</td>\n",
       "      <td>2020-06-11</td>\n",
       "      <td>14.5</td>\n",
       "      <td>5</td>\n",
       "      <td>74.5</td>\n",
       "      <td>None</td>\n",
       "      <td>ADT</td>\n",
       "    </tr>\n",
       "    <tr>\n",
       "      <th>3</th>\n",
       "      <td>1</td>\n",
       "      <td>2020-09-09</td>\n",
       "      <td>14.4</td>\n",
       "      <td>5</td>\n",
       "      <td>75.3</td>\n",
       "      <td>Mild</td>\n",
       "      <td>ADT</td>\n",
       "    </tr>\n",
       "    <tr>\n",
       "      <th>4</th>\n",
       "      <td>1</td>\n",
       "      <td>2020-12-08</td>\n",
       "      <td>14.1</td>\n",
       "      <td>5</td>\n",
       "      <td>76.2</td>\n",
       "      <td>Mild</td>\n",
       "      <td>ADT</td>\n",
       "    </tr>\n",
       "  </tbody>\n",
       "</table>\n",
       "</div>"
      ],
      "text/plain": [
       "   PatientID        Date   PSA  PIRADS  Weight BonePain Treatment\n",
       "0          1  2020-03-13  14.7       5    73.7     None      None\n",
       "1          1  2020-03-13  14.7       5    73.7     Mild       ADT\n",
       "2          1  2020-06-11  14.5       5    74.5     None       ADT\n",
       "3          1  2020-09-09  14.4       5    75.3     Mild       ADT\n",
       "4          1  2020-12-08  14.1       5    76.2     Mild       ADT"
      ]
     },
     "execution_count": 7,
     "metadata": {},
     "output_type": "execute_result"
    }
   ],
   "source": [
    "df.head()"
   ]
  },
  {
   "cell_type": "code",
   "execution_count": 8,
   "metadata": {},
   "outputs": [
    {
     "data": {
      "text/html": [
       "<div>\n",
       "<style scoped>\n",
       "    .dataframe tbody tr th:only-of-type {\n",
       "        vertical-align: middle;\n",
       "    }\n",
       "\n",
       "    .dataframe tbody tr th {\n",
       "        vertical-align: top;\n",
       "    }\n",
       "\n",
       "    .dataframe thead th {\n",
       "        text-align: right;\n",
       "    }\n",
       "</style>\n",
       "<table border=\"1\" class=\"dataframe\">\n",
       "  <thead>\n",
       "    <tr style=\"text-align: right;\">\n",
       "      <th></th>\n",
       "      <th>PatientID</th>\n",
       "      <th>Date</th>\n",
       "      <th>PSA</th>\n",
       "      <th>PIRADS</th>\n",
       "      <th>Weight</th>\n",
       "      <th>BonePain</th>\n",
       "      <th>Treatment</th>\n",
       "    </tr>\n",
       "  </thead>\n",
       "  <tbody>\n",
       "    <tr>\n",
       "      <th>0</th>\n",
       "      <td>1</td>\n",
       "      <td>2020-03-13</td>\n",
       "      <td>14.7</td>\n",
       "      <td>5</td>\n",
       "      <td>73.7</td>\n",
       "      <td>None</td>\n",
       "      <td>None</td>\n",
       "    </tr>\n",
       "    <tr>\n",
       "      <th>1</th>\n",
       "      <td>1</td>\n",
       "      <td>2020-03-13</td>\n",
       "      <td>14.7</td>\n",
       "      <td>5</td>\n",
       "      <td>73.7</td>\n",
       "      <td>Mild</td>\n",
       "      <td>ADT</td>\n",
       "    </tr>\n",
       "    <tr>\n",
       "      <th>2</th>\n",
       "      <td>1</td>\n",
       "      <td>2020-06-11</td>\n",
       "      <td>14.5</td>\n",
       "      <td>5</td>\n",
       "      <td>74.5</td>\n",
       "      <td>None</td>\n",
       "      <td>ADT</td>\n",
       "    </tr>\n",
       "    <tr>\n",
       "      <th>3</th>\n",
       "      <td>1</td>\n",
       "      <td>2020-09-09</td>\n",
       "      <td>14.4</td>\n",
       "      <td>5</td>\n",
       "      <td>75.3</td>\n",
       "      <td>Mild</td>\n",
       "      <td>ADT</td>\n",
       "    </tr>\n",
       "    <tr>\n",
       "      <th>4</th>\n",
       "      <td>1</td>\n",
       "      <td>2020-12-08</td>\n",
       "      <td>14.1</td>\n",
       "      <td>5</td>\n",
       "      <td>76.2</td>\n",
       "      <td>Mild</td>\n",
       "      <td>ADT</td>\n",
       "    </tr>\n",
       "  </tbody>\n",
       "</table>\n",
       "</div>"
      ],
      "text/plain": [
       "   PatientID        Date   PSA  PIRADS  Weight BonePain Treatment\n",
       "0          1  2020-03-13  14.7       5    73.7     None      None\n",
       "1          1  2020-03-13  14.7       5    73.7     Mild       ADT\n",
       "2          1  2020-06-11  14.5       5    74.5     None       ADT\n",
       "3          1  2020-09-09  14.4       5    75.3     Mild       ADT\n",
       "4          1  2020-12-08  14.1       5    76.2     Mild       ADT"
      ]
     },
     "execution_count": 8,
     "metadata": {},
     "output_type": "execute_result"
    }
   ],
   "source": [
    "# Check the dataframe\n",
    "df.head()"
   ]
  },
  {
   "cell_type": "code",
   "execution_count": 9,
   "metadata": {},
   "outputs": [
    {
     "data": {
      "text/plain": [
       "array([None, 'ADT', 'Surgery', 'Surgery + Radiation + ADT',\n",
       "       'Surgery + ADT', 'Radiation', 'Radiation + ADT',\n",
       "       'Surgery + Radiation'], dtype=object)"
      ]
     },
     "execution_count": 9,
     "metadata": {},
     "output_type": "execute_result"
    }
   ],
   "source": [
    "# Number of unique treatments\n",
    "df['Treatment'].unique()"
   ]
  },
  {
   "cell_type": "markdown",
   "metadata": {},
   "source": [
    "## Feature Engineering"
   ]
  },
  {
   "cell_type": "code",
   "execution_count": null,
   "metadata": {},
   "outputs": [],
   "source": [
    "import pandas as pd\n",
    "from sklearn.model_selection import train_test_split\n",
    "from sklearn.preprocessing import LabelEncoder\n",
    "\n",
    "# Function for feature engineering \n",
    "def add_engineered_features(df):\n",
    "    df = df.sort_values(by=[\"PatientID\", \"Date\"])\n",
    "\n",
    "    # PSA, Weight Delta\n",
    "    # Use to show the difference compared to the past visits & Include temporal information\n",
    "    df[\"PSA_Delta\"] = df.groupby(\"PatientID\")[\"PSA\"].diff().fillna(0)\n",
    "    df[\"Weight_Delta\"] = df.groupby(\"PatientID\")[\"Weight\"].diff().fillna(0)\n",
    "\n",
    "    # How many times patient visited \n",
    "    df[\"VisitOrder\"] = df.groupby(\"PatientID\").cumcount() + 1\n",
    "\n",
    "    return df\n",
    "\n",
    "# Prepare the data\n",
    "df = df.dropna(subset=[\"PSA\", \"PIRADS\", \"Weight\", \"BonePain\", \"Treatment\"])\n",
    "df[\"Date\"] = pd.to_datetime(df[\"Date\"])  \n",
    "df[\"BonePainEncoded\"] = df[\"BonePain\"].map({\"None\": 0, \"Mild\": 1, \"Moderate\": 2, \"Severe\": 3})\n",
    "df[\"Treatment\"] = df[\"Treatment\"].astype(str)\n",
    "df[\"TreatmentEncoded\"] = LabelEncoder().fit_transform(df[\"Treatment\"])\n",
    "\n",
    "# Apply feature engineering \n",
    "df_fe = add_engineered_features(df)"
   ]
  },
  {
   "cell_type": "code",
   "execution_count": 32,
   "metadata": {},
   "outputs": [
    {
     "data": {
      "text/html": [
       "<div>\n",
       "<style scoped>\n",
       "    .dataframe tbody tr th:only-of-type {\n",
       "        vertical-align: middle;\n",
       "    }\n",
       "\n",
       "    .dataframe tbody tr th {\n",
       "        vertical-align: top;\n",
       "    }\n",
       "\n",
       "    .dataframe thead th {\n",
       "        text-align: right;\n",
       "    }\n",
       "</style>\n",
       "<table border=\"1\" class=\"dataframe\">\n",
       "  <thead>\n",
       "    <tr style=\"text-align: right;\">\n",
       "      <th></th>\n",
       "      <th>PatientID</th>\n",
       "      <th>Date</th>\n",
       "      <th>PSA</th>\n",
       "      <th>PIRADS</th>\n",
       "      <th>Weight</th>\n",
       "      <th>BonePain</th>\n",
       "      <th>Treatment</th>\n",
       "      <th>TreatmentEncoded</th>\n",
       "      <th>BonePainEncoded</th>\n",
       "      <th>PSA_Delta</th>\n",
       "      <th>Weight_Delta</th>\n",
       "      <th>VisitOrder</th>\n",
       "    </tr>\n",
       "  </thead>\n",
       "  <tbody>\n",
       "    <tr>\n",
       "      <th>1</th>\n",
       "      <td>1</td>\n",
       "      <td>2020-03-13</td>\n",
       "      <td>14.7</td>\n",
       "      <td>5</td>\n",
       "      <td>73.7</td>\n",
       "      <td>Mild</td>\n",
       "      <td>ADT</td>\n",
       "      <td>0</td>\n",
       "      <td>1</td>\n",
       "      <td>0.0</td>\n",
       "      <td>0.0</td>\n",
       "      <td>1</td>\n",
       "    </tr>\n",
       "    <tr>\n",
       "      <th>2</th>\n",
       "      <td>1</td>\n",
       "      <td>2020-06-11</td>\n",
       "      <td>14.5</td>\n",
       "      <td>5</td>\n",
       "      <td>74.5</td>\n",
       "      <td>None</td>\n",
       "      <td>ADT</td>\n",
       "      <td>0</td>\n",
       "      <td>0</td>\n",
       "      <td>-0.2</td>\n",
       "      <td>0.8</td>\n",
       "      <td>2</td>\n",
       "    </tr>\n",
       "    <tr>\n",
       "      <th>3</th>\n",
       "      <td>1</td>\n",
       "      <td>2020-09-09</td>\n",
       "      <td>14.4</td>\n",
       "      <td>5</td>\n",
       "      <td>75.3</td>\n",
       "      <td>Mild</td>\n",
       "      <td>ADT</td>\n",
       "      <td>0</td>\n",
       "      <td>1</td>\n",
       "      <td>-0.1</td>\n",
       "      <td>0.8</td>\n",
       "      <td>3</td>\n",
       "    </tr>\n",
       "    <tr>\n",
       "      <th>4</th>\n",
       "      <td>1</td>\n",
       "      <td>2020-12-08</td>\n",
       "      <td>14.1</td>\n",
       "      <td>5</td>\n",
       "      <td>76.2</td>\n",
       "      <td>Mild</td>\n",
       "      <td>ADT</td>\n",
       "      <td>0</td>\n",
       "      <td>1</td>\n",
       "      <td>-0.3</td>\n",
       "      <td>0.9</td>\n",
       "      <td>4</td>\n",
       "    </tr>\n",
       "    <tr>\n",
       "      <th>5</th>\n",
       "      <td>1</td>\n",
       "      <td>2021-03-08</td>\n",
       "      <td>13.9</td>\n",
       "      <td>5</td>\n",
       "      <td>76.9</td>\n",
       "      <td>Mild</td>\n",
       "      <td>ADT</td>\n",
       "      <td>0</td>\n",
       "      <td>1</td>\n",
       "      <td>-0.2</td>\n",
       "      <td>0.7</td>\n",
       "      <td>5</td>\n",
       "    </tr>\n",
       "  </tbody>\n",
       "</table>\n",
       "</div>"
      ],
      "text/plain": [
       "   PatientID       Date   PSA  PIRADS  Weight BonePain Treatment  \\\n",
       "1          1 2020-03-13  14.7       5    73.7     Mild       ADT   \n",
       "2          1 2020-06-11  14.5       5    74.5     None       ADT   \n",
       "3          1 2020-09-09  14.4       5    75.3     Mild       ADT   \n",
       "4          1 2020-12-08  14.1       5    76.2     Mild       ADT   \n",
       "5          1 2021-03-08  13.9       5    76.9     Mild       ADT   \n",
       "\n",
       "   TreatmentEncoded  BonePainEncoded  PSA_Delta  Weight_Delta  VisitOrder  \n",
       "1                 0                1        0.0           0.0           1  \n",
       "2                 0                0       -0.2           0.8           2  \n",
       "3                 0                1       -0.1           0.8           3  \n",
       "4                 0                1       -0.3           0.9           4  \n",
       "5                 0                1       -0.2           0.7           5  "
      ]
     },
     "execution_count": 32,
     "metadata": {},
     "output_type": "execute_result"
    }
   ],
   "source": [
    "df_fe.head()"
   ]
  },
  {
   "cell_type": "code",
   "execution_count": 28,
   "metadata": {},
   "outputs": [],
   "source": [
    "# Set Feature/Label\n",
    "features = [\"PSA\", \"PIRADS\", \"Weight\", \"BonePainEncoded\", \"PSA_Delta\", \"Weight_Delta\", \"VisitOrder\"]\n",
    "X = df_fe[features]\n",
    "y = df_fe[\"TreatmentEncoded\"]\n",
    "\n",
    "# Train-test Split\n",
    "X_train, X_test, y_train, y_test = train_test_split(X, y, stratify=y, test_size=0.2, random_state=42)"
   ]
  },
  {
   "cell_type": "markdown",
   "metadata": {},
   "source": [
    "## Modeling"
   ]
  },
  {
   "cell_type": "markdown",
   "metadata": {},
   "source": [
    "### 1. RandomForestClassifier"
   ]
  },
  {
   "cell_type": "markdown",
   "metadata": {},
   "source": [
    "Baseline RandomForestClassifier model"
   ]
  },
  {
   "cell_type": "code",
   "execution_count": 29,
   "metadata": {},
   "outputs": [
    {
     "name": "stdout",
     "output_type": "stream",
     "text": [
      "Classification Report:\n",
      "                           precision    recall  f1-score   support\n",
      "\n",
      "                      ADT       0.38      0.42      0.40        97\n",
      "                Radiation       0.54      0.64      0.59       126\n",
      "          Radiation + ADT       0.48      0.45      0.46        83\n",
      "                  Surgery       0.63      0.63      0.63       123\n",
      "            Surgery + ADT       0.44      0.46      0.45       102\n",
      "      Surgery + Radiation       0.43      0.18      0.26        55\n",
      "Surgery + Radiation + ADT       0.27      0.21      0.24        14\n",
      "\n",
      "                 accuracy                           0.49       600\n",
      "                macro avg       0.45      0.43      0.43       600\n",
      "             weighted avg       0.49      0.49      0.49       600\n",
      "\n",
      "Confusion Matrix:\n",
      "[[41  3 17  4 28  0  4]\n",
      " [ 6 81  2 24 10  3  0]\n",
      " [23  3 37  2 16  2  0]\n",
      " [ 4 28  3 78  5  5  0]\n",
      " [29  5 13  2 47  2  4]\n",
      " [ 0 30  1 13  1 10  0]\n",
      " [ 4  0  4  1  1  1  3]]\n"
     ]
    }
   ],
   "source": [
    "from sklearn.ensemble import RandomForestClassifier\n",
    "from sklearn.metrics import classification_report, confusion_matrix\n",
    "\n",
    "rf_model = RandomForestClassifier(n_estimators=100, random_state=42)\n",
    "rf_model.fit(X_train, y_train)\n",
    "\n",
    "y_pred = rf_model.predict(X_test)\n",
    "print(\"Classification Report:\")\n",
    "print(classification_report(y_test, y_pred, target_names=le.classes_))\n",
    "\n",
    "print(\"Confusion Matrix:\")\n",
    "print(confusion_matrix(y_test, y_pred))"
   ]
  },
  {
   "cell_type": "markdown",
   "metadata": {},
   "source": [
    "RandomForestClassifier + GridSearchCV"
   ]
  },
  {
   "cell_type": "code",
   "execution_count": 33,
   "metadata": {},
   "outputs": [
    {
     "name": "stdout",
     "output_type": "stream",
     "text": [
      "Fitting 3 folds for each of 24 candidates, totalling 72 fits\n",
      "Best Params: {'class_weight': 'balanced', 'max_depth': None, 'min_samples_split': 5, 'n_estimators': 200}\n",
      "Classification Report:\n",
      "              precision    recall  f1-score   support\n",
      "\n",
      "           0       0.37      0.41      0.39        97\n",
      "           1       0.63      0.66      0.64       126\n",
      "           2       0.45      0.43      0.44        83\n",
      "           3       0.71      0.72      0.72       123\n",
      "           4       0.44      0.47      0.46       102\n",
      "           5       0.48      0.29      0.36        55\n",
      "           6       0.21      0.21      0.21        14\n",
      "\n",
      "    accuracy                           0.53       600\n",
      "   macro avg       0.47      0.46      0.46       600\n",
      "weighted avg       0.53      0.53      0.52       600\n",
      "\n"
     ]
    }
   ],
   "source": [
    "from sklearn.model_selection import GridSearchCV\n",
    "\n",
    "param_grid = {\n",
    "    'n_estimators': [100, 200],\n",
    "    'max_depth': [None, 5, 10],\n",
    "    'min_samples_split': [2, 5],\n",
    "    'class_weight': [None, 'balanced']\n",
    "}\n",
    "\n",
    "# GridSearchCV\n",
    "grid_search = GridSearchCV(\n",
    "    estimator=RandomForestClassifier(random_state=42),\n",
    "    param_grid=param_grid,\n",
    "    cv=3,\n",
    "    n_jobs=-1,\n",
    "    scoring='f1_weighted',\n",
    "    verbose=1\n",
    ")\n",
    "\n",
    "grid_search.fit(X_train, y_train)\n",
    "best_rf = grid_search.best_estimator_\n",
    "\n",
    "# Evaluation\n",
    "y_pred = best_rf.predict(X_test)\n",
    "print(\"Best Params:\", grid_search.best_params_)\n",
    "print(\"Classification Report:\")\n",
    "print(classification_report(y_test, y_pred))\n"
   ]
  },
  {
   "cell_type": "markdown",
   "metadata": {},
   "source": [
    "## 2. XGBoost\n",
    "Baseline XGBoost model"
   ]
  },
  {
   "cell_type": "code",
   "execution_count": 30,
   "metadata": {},
   "outputs": [
    {
     "name": "stderr",
     "output_type": "stream",
     "text": [
      "/opt/anaconda3/envs/bayes/lib/python3.10/site-packages/xgboost/sklearn.py:1395: UserWarning: `use_label_encoder` is deprecated in 1.7.0.\n",
      "  warnings.warn(\"`use_label_encoder` is deprecated in 1.7.0.\")\n"
     ]
    },
    {
     "name": "stdout",
     "output_type": "stream",
     "text": [
      "                           precision    recall  f1-score   support\n",
      "\n",
      "                      ADT       0.47      0.57      0.51        97\n",
      "                Radiation       0.81      0.76      0.79       126\n",
      "          Radiation + ADT       0.51      0.48      0.49        83\n",
      "                  Surgery       0.79      0.88      0.83       123\n",
      "            Surgery + ADT       0.53      0.50      0.52       102\n",
      "      Surgery + Radiation       0.90      0.67      0.77        55\n",
      "Surgery + Radiation + ADT       0.31      0.29      0.30        14\n",
      "\n",
      "                 accuracy                           0.65       600\n",
      "                macro avg       0.62      0.59      0.60       600\n",
      "             weighted avg       0.66      0.65      0.65       600\n",
      "\n"
     ]
    }
   ],
   "source": [
    "from xgboost import XGBClassifier\n",
    "\n",
    "# Train model\n",
    "xgb_model_1 = XGBClassifier(use_label_encoder=False, eval_metric='mlogloss')\n",
    "xgb_model_1.fit(X_train, y_train)\n",
    "\n",
    "# Evaluate\n",
    "y_pred = xgb_model_1.predict(X_test)\n",
    "print(classification_report(y_test, y_pred, target_names=le.classes_))"
   ]
  },
  {
   "cell_type": "code",
   "execution_count": 55,
   "metadata": {},
   "outputs": [
    {
     "data": {
      "text/plain": [
       "['model/xgboost_model.joblib']"
      ]
     },
     "execution_count": 55,
     "metadata": {},
     "output_type": "execute_result"
    }
   ],
   "source": [
    "# Save the model\n",
    "import joblib\n",
    "joblib.dump(xgb_model_1, \"model/xgboost_model.joblib\")"
   ]
  },
  {
   "cell_type": "markdown",
   "metadata": {},
   "source": [
    "XGBoost with hyperparameter tuning"
   ]
  },
  {
   "cell_type": "code",
   "execution_count": 47,
   "metadata": {},
   "outputs": [
    {
     "name": "stdout",
     "output_type": "stream",
     "text": [
      "                           precision    recall  f1-score   support\n",
      "\n",
      "                      ADT       0.44      0.53      0.48        97\n",
      "                Radiation       0.78      0.75      0.77       126\n",
      "          Radiation + ADT       0.49      0.45      0.47        83\n",
      "                  Surgery       0.83      0.83      0.83       123\n",
      "            Surgery + ADT       0.49      0.50      0.50       102\n",
      "      Surgery + Radiation       0.88      0.69      0.78        55\n",
      "Surgery + Radiation + ADT       0.20      0.21      0.21        14\n",
      "\n",
      "                 accuracy                           0.63       600\n",
      "                macro avg       0.59      0.57      0.57       600\n",
      "             weighted avg       0.64      0.63      0.63       600\n",
      "\n"
     ]
    }
   ],
   "source": [
    "xgb_model_2 = XGBClassifier(\n",
    "    max_depth=5,\n",
    "    learning_rate=0.5,\n",
    "    n_estimators=200,\n",
    "    subsample=0.8,\n",
    "    colsample_bytree=0.8\n",
    ")\n",
    "xgb_model_2.fit(X_train, y_train)\n",
    "\n",
    "y_pred = xgb_model_2.predict(X_test)\n",
    "print(classification_report(y_test, y_pred, target_names=le.classes_))"
   ]
  },
  {
   "cell_type": "code",
   "execution_count": 52,
   "metadata": {},
   "outputs": [
    {
     "name": "stdout",
     "output_type": "stream",
     "text": [
      "Collecting catboost\n",
      "  Downloading catboost-1.2.8-cp310-cp310-macosx_11_0_universal2.whl.metadata (1.4 kB)\n",
      "Requirement already satisfied: graphviz in /opt/anaconda3/envs/bayes/lib/python3.10/site-packages (from catboost) (0.20.3)\n",
      "Requirement already satisfied: matplotlib in /opt/anaconda3/envs/bayes/lib/python3.10/site-packages (from catboost) (3.8.4)\n",
      "Requirement already satisfied: numpy<3.0,>=1.16.0 in /opt/anaconda3/envs/bayes/lib/python3.10/site-packages (from catboost) (1.26.4)\n",
      "Requirement already satisfied: pandas>=0.24 in /opt/anaconda3/envs/bayes/lib/python3.10/site-packages (from catboost) (2.2.3)\n",
      "Requirement already satisfied: scipy in /opt/anaconda3/envs/bayes/lib/python3.10/site-packages (from catboost) (1.15.2)\n",
      "Collecting plotly (from catboost)\n",
      "  Downloading plotly-6.1.1-py3-none-any.whl.metadata (6.9 kB)\n",
      "Requirement already satisfied: six in /opt/anaconda3/envs/bayes/lib/python3.10/site-packages (from catboost) (1.17.0)\n",
      "Requirement already satisfied: python-dateutil>=2.8.2 in /opt/anaconda3/envs/bayes/lib/python3.10/site-packages (from pandas>=0.24->catboost) (2.9.0.post0)\n",
      "Requirement already satisfied: pytz>=2020.1 in /opt/anaconda3/envs/bayes/lib/python3.10/site-packages (from pandas>=0.24->catboost) (2024.2)\n",
      "Requirement already satisfied: tzdata>=2022.7 in /opt/anaconda3/envs/bayes/lib/python3.10/site-packages (from pandas>=0.24->catboost) (2024.2)\n",
      "Requirement already satisfied: contourpy>=1.0.1 in /opt/anaconda3/envs/bayes/lib/python3.10/site-packages (from matplotlib->catboost) (1.2.1)\n",
      "Requirement already satisfied: cycler>=0.10 in /opt/anaconda3/envs/bayes/lib/python3.10/site-packages (from matplotlib->catboost) (0.12.1)\n",
      "Requirement already satisfied: fonttools>=4.22.0 in /opt/anaconda3/envs/bayes/lib/python3.10/site-packages (from matplotlib->catboost) (4.55.3)\n",
      "Requirement already satisfied: kiwisolver>=1.3.1 in /opt/anaconda3/envs/bayes/lib/python3.10/site-packages (from matplotlib->catboost) (1.4.8)\n",
      "Requirement already satisfied: packaging>=20.0 in /opt/anaconda3/envs/bayes/lib/python3.10/site-packages (from matplotlib->catboost) (24.2)\n",
      "Requirement already satisfied: pillow>=8 in /opt/anaconda3/envs/bayes/lib/python3.10/site-packages (from matplotlib->catboost) (11.1.0)\n",
      "Requirement already satisfied: pyparsing>=2.3.1 in /opt/anaconda3/envs/bayes/lib/python3.10/site-packages (from matplotlib->catboost) (3.2.1)\n",
      "Collecting narwhals>=1.15.1 (from plotly->catboost)\n",
      "  Downloading narwhals-1.40.0-py3-none-any.whl.metadata (11 kB)\n",
      "Downloading catboost-1.2.8-cp310-cp310-macosx_11_0_universal2.whl (27.8 MB)\n",
      "\u001b[2K   \u001b[90m━━━━━━━━━━━━━━━━━━━━━━━━━━━━━━━━━━━━━━━━\u001b[0m \u001b[32m27.8/27.8 MB\u001b[0m \u001b[31m58.6 MB/s\u001b[0m eta \u001b[36m0:00:00\u001b[0ma \u001b[36m0:00:01\u001b[0m\n",
      "\u001b[?25hDownloading plotly-6.1.1-py3-none-any.whl (16.1 MB)\n",
      "\u001b[2K   \u001b[90m━━━━━━━━━━━━━━━━━━━━━━━━━━━━━━━━━━━━━━━━\u001b[0m \u001b[32m16.1/16.1 MB\u001b[0m \u001b[31m70.4 MB/s\u001b[0m eta \u001b[36m0:00:00\u001b[0m00:01\u001b[0m\n",
      "\u001b[?25hDownloading narwhals-1.40.0-py3-none-any.whl (357 kB)\n",
      "Installing collected packages: narwhals, plotly, catboost\n",
      "\u001b[2K   \u001b[90m━━━━━━━━━━━━━━━━━━━━━━━━━━━━━━━━━━━━━━━━\u001b[0m \u001b[32m3/3\u001b[0m [catboost]2/3\u001b[0m [catboost]\n",
      "\u001b[1A\u001b[2KSuccessfully installed catboost-1.2.8 narwhals-1.40.0 plotly-6.1.1\n",
      "Note: you may need to restart the kernel to use updated packages.\n"
     ]
    }
   ],
   "source": [
    "pip install catboost\n"
   ]
  },
  {
   "cell_type": "markdown",
   "metadata": {},
   "source": [
    "## 3. CatBoost Model"
   ]
  },
  {
   "cell_type": "code",
   "execution_count": 53,
   "metadata": {},
   "outputs": [
    {
     "name": "stdout",
     "output_type": "stream",
     "text": [
      "                           precision    recall  f1-score   support\n",
      "\n",
      "                      ADT       0.37      0.39      0.38        97\n",
      "                Radiation       0.60      0.62      0.61       126\n",
      "          Radiation + ADT       0.39      0.27      0.32        83\n",
      "                  Surgery       0.56      0.81      0.67       123\n",
      "            Surgery + ADT       0.39      0.46      0.42       102\n",
      "      Surgery + Radiation       0.14      0.02      0.03        55\n",
      "Surgery + Radiation + ADT       0.50      0.14      0.22        14\n",
      "\n",
      "                 accuracy                           0.48       600\n",
      "                macro avg       0.42      0.39      0.38       600\n",
      "             weighted avg       0.45      0.48      0.45       600\n",
      "\n"
     ]
    }
   ],
   "source": [
    "from catboost import CatBoostClassifier\n",
    "\n",
    "cat_model = CatBoostClassifier(\n",
    "    iterations=200,\n",
    "    depth=5,\n",
    "    learning_rate=0.05,\n",
    "    verbose=0\n",
    ")\n",
    "cat_model.fit(X_train, y_train)\n",
    "y_pred = cat_model.predict(X_test)\n",
    "\n",
    "print(classification_report(y_test, y_pred, target_names=le.classes_))\n"
   ]
  },
  {
   "cell_type": "markdown",
   "metadata": {},
   "source": []
  },
  {
   "cell_type": "code",
   "execution_count": null,
   "metadata": {},
   "outputs": [],
   "source": []
  }
 ],
 "metadata": {
  "kernelspec": {
   "display_name": "bayes",
   "language": "python",
   "name": "python3"
  },
  "language_info": {
   "codemirror_mode": {
    "name": "ipython",
    "version": 3
   },
   "file_extension": ".py",
   "mimetype": "text/x-python",
   "name": "python",
   "nbconvert_exporter": "python",
   "pygments_lexer": "ipython3",
   "version": "3.10.13"
  }
 },
 "nbformat": 4,
 "nbformat_minor": 2
}
